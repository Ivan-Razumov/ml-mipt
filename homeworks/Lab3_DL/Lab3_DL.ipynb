{
  "nbformat": 4,
  "nbformat_minor": 0,
  "metadata": {
    "colab": {
      "name": "Lab3_DL.ipynb",
      "version": "0.3.2",
      "provenance": []
    },
    "language_info": {
      "codemirror_mode": {
        "name": "ipython",
        "version": 2
      },
      "file_extension": ".py",
      "mimetype": "text/x-python",
      "name": "python",
      "nbconvert_exporter": "python",
      "pygments_lexer": "ipython2",
      "version": "2.7.16"
    },
    "kernelspec": {
      "display_name": "Python 2",
      "language": "python",
      "name": "python2"
    }
  },
  "cells": [
    {
      "cell_type": "markdown",
      "metadata": {
        "id": "0TOdrEnV3-Ts",
        "colab_type": "text"
      },
      "source": [
        "## Лабораторная работа №3.\n",
        "\n",
        "Дедлайн: 21 мая 23:59"
      ]
    },
    {
      "cell_type": "markdown",
      "metadata": {
        "id": "F6-m0Nue3-T0",
        "colab_type": "text"
      },
      "source": [
        "### Часть 1. Overfit it (1.5 points)"
      ]
    },
    {
      "cell_type": "markdown",
      "metadata": {
        "id": "BaksxUpY3-T4",
        "colab_type": "text"
      },
      "source": [
        "Будем работать с датасетом [Fashion-MNIST](https://github.com/zalandoresearch/fashion-mnist) (*hint: он доступен в torchvision*).\n",
        "\n",
        "Ваша задача состоит в следующем:\n",
        "1. Обучить сеть, которая покажет >= 0.94 test accuracy.\n",
        "2. Пронаблюдать и продемонстрировать процесс переобучения сети с увеличением числа параметров (==нейронов) и продемонстрировать это наглядно (например, на графиках).\n",
        "3. Попробовать частично справиться с переобучением с помощью подходящих приемов (Dropout/batchnorm/augmentation etc.)\n",
        "\n",
        "*Примечание*: Пункты 2 и 3 взаимосвязаны, в п.3 Вам прелагается сделать полученную в п.2 сеть менее склонной к переобучению. Пункт 1 является независимым от пунктов 2 и 3."
      ]
    },
    {
      "cell_type": "code",
      "metadata": {
        "id": "6avwcWme3-T7",
        "colab_type": "code",
        "colab": {}
      },
      "source": [
        "# Your great code here\n",
        "import torch.nn as nn\n",
        "import torch\n",
        "import numpy as np\n",
        "import torch.nn.functional as F"
      ],
      "execution_count": 0,
      "outputs": []
    },
    {
      "cell_type": "code",
      "metadata": {
        "id": "Uww0XYr93-UH",
        "colab_type": "code",
        "colab": {}
      },
      "source": [
        "from torchvision.datasets import FashionMNIST\n",
        "from torchvision import transforms"
      ],
      "execution_count": 0,
      "outputs": []
    },
    {
      "cell_type": "code",
      "metadata": {
        "id": "zyGN2H0q3-UR",
        "colab_type": "code",
        "colab": {}
      },
      "source": [
        "import os"
      ],
      "execution_count": 0,
      "outputs": []
    },
    {
      "cell_type": "code",
      "metadata": {
        "id": "FKr_6ijr3-Uc",
        "colab_type": "code",
        "colab": {}
      },
      "source": [
        "root = os.path.abspath(os.curdir)"
      ],
      "execution_count": 0,
      "outputs": []
    },
    {
      "cell_type": "code",
      "metadata": {
        "id": "eugVRzOq3-Ul",
        "colab_type": "code",
        "colab": {}
      },
      "source": [
        "import matplotlib.pyplot as plt"
      ],
      "execution_count": 0,
      "outputs": []
    },
    {
      "cell_type": "code",
      "metadata": {
        "id": "PbNW4Gdk3-Uy",
        "colab_type": "code",
        "colab": {}
      },
      "source": [
        "class Net(nn.Module):\n",
        "    def __init__(self):\n",
        "        super(Net, self).__init__()\n",
        "        self.conv1 = nn.Conv2d(1, 20, 5, 1)\n",
        "        self.conv2 = nn.Conv2d(20, 50, 5, 1)\n",
        "        self.fc1 = nn.Linear(4*4*50, 500)\n",
        "        self.fc2 = nn.Linear(500, 1000)\n",
        "        self.fc3 = nn.Linear(1000, 700)\n",
        "        self.fc4 = nn.Linear(700, 10)\n",
        "    \n",
        "    def forward(self, x):\n",
        "        x = F.relu(self.conv1(x))\n",
        "        x = F.max_pool2d(x, 2, 2)\n",
        "        x = F.relu(self.conv2(x))\n",
        "        x = F.max_pool2d(x, 2, 2)\n",
        "        x = x.view(-1, 4*4*50)\n",
        "        x = F.relu(self.fc1(x))\n",
        "        x = F.relu(self.fc2(x))\n",
        "        x = F.relu(self.fc3(x))\n",
        "        x = self.fc4(x)\n",
        "        return F.log_softmax(x, dim=1)\n",
        "    "
      ],
      "execution_count": 0,
      "outputs": []
    },
    {
      "cell_type": "code",
      "metadata": {
        "id": "4yBq0CoQ3-U7",
        "colab_type": "code",
        "colab": {}
      },
      "source": [
        "def train(model, train_loader, optimizer, epoch):\n",
        "    model.train()\n",
        "    for batch_idx, (data, target) in enumerate(train_loader):\n",
        "        optimizer.zero_grad()\n",
        "        output = model(data)\n",
        "        loss = F.nll_loss(output, target)\n",
        "        loss.backward()\n",
        "        optimizer.step()\n",
        "        if batch_idx % 10000 == 0:\n",
        "            print('Train Epoch: {} [{}/{} ({:.0f}%)]\\tLoss: {:.6f}'.format(\n",
        "                epoch, batch_idx * len(data), len(train_loader.dataset),\n",
        "                100. * batch_idx / len(train_loader), loss.item()))\n",
        "            \n",
        "            \n",
        "def test(model, test_loader):\n",
        "    model.eval()\n",
        "    test_loss = 0\n",
        "    correct = 0\n",
        "    with torch.no_grad():\n",
        "        for data, target in test_loader:\n",
        "            output = model(data)\n",
        "            test_loss += F.nll_loss(output, target, reduction='sum').item() # sum up batch loss\n",
        "            pred = output.argmax(dim=1, keepdim=True) # get the index of the max log-probability\n",
        "            correct += pred.eq(target.view_as(pred)).sum().item()\n",
        "\n",
        "    test_loss /= len(test_loader.dataset)\n",
        "\n",
        "    print('\\nTest set: Average loss: {:.4f}, Accuracy: {}/{} ({:.0f}%)\\n'.format(\n",
        "        test_loss, correct, len(test_loader.dataset),\n",
        "        100. * correct / len(test_loader.dataset)))"
      ],
      "execution_count": 0,
      "outputs": []
    },
    {
      "cell_type": "code",
      "metadata": {
        "id": "exlM8o4X3-VB",
        "colab_type": "code",
        "colab": {}
      },
      "source": [
        "f_mn_train = FashionMNIST(root, train= True,  transform=transforms.Compose([\n",
        "                           transforms.ToTensor(),\n",
        "                           transforms.Normalize((0.1307,), (0.3081,))\n",
        "                       ]))\n",
        "\n",
        "f_mn_test = FashionMNIST(root, train= False,  transform=transforms.Compose([\n",
        "                           transforms.ToTensor(),\n",
        "                           transforms.Normalize((0.1307,), (0.3081,))\n",
        "                       ]))\n",
        "train_loader = torch.utils.data.DataLoader(f_mn_train, batch_size = 1000)\n",
        "test_loader = torch.utils.data.DataLoader(f_mn_test, batch_size = 1000)"
      ],
      "execution_count": 0,
      "outputs": []
    },
    {
      "cell_type": "code",
      "metadata": {
        "id": "hxO4Kq0-3-VL",
        "colab_type": "code",
        "colab": {
          "base_uri": "https://localhost:8080/",
          "height": 102
        },
        "outputId": "4ca27fee-f676-4d94-8368-f12998232f3a"
      },
      "source": [
        "model = Net()\n",
        "optimizer = torch.optim.SGD(model.parameters(), lr=0.01)\n",
        "for epoch in np.arange(1,100):\n",
        "    train(model, train_loader, optimizer, epoch)\n",
        "    test(model, test_loader)"
      ],
      "execution_count": 0,
      "outputs": [
        {
          "output_type": "stream",
          "text": [
            "Train Epoch: 1 [0/60000 (0%)]\tLoss: 2.302274\n",
            "\n",
            "Test set: Average loss: 2.2965, Accuracy: 1897/10000 (19%)\n",
            "\n",
            "Train Epoch: 2 [0/60000 (0%)]\tLoss: 2.295209\n"
          ],
          "name": "stdout"
        }
      ]
    },
    {
      "cell_type": "markdown",
      "metadata": {
        "id": "ATYR_AZm3-VZ",
        "colab_type": "text"
      },
      "source": [
        "### Часть 2. Almost Shakespeare (1.5 points)\n",
        "\n",
        "В этой части задания мы научимся генерировать текст с помощью нейронных сетей. Конкретнее, обучим нейронную сеть на сонетах Шекспира и попросим нейросеть написать свой сонет.\n",
        "\n",
        "Генерация текста обычно включает в себя следующие шаги:\n",
        "    \n",
        "1. Загрузка данных.\n",
        "2. Создание словарей слов/символов.\n",
        "3. Препроцессинг данных.\n",
        "4. Обучение модели (нейросети).\n",
        "5. Генерация нового текста.\n"
      ]
    },
    {
      "cell_type": "markdown",
      "metadata": {
        "id": "pLWD8xKc3-Vb",
        "colab_type": "text"
      },
      "source": [
        "#### Часть 1. Предобработка данных"
      ]
    },
    {
      "cell_type": "markdown",
      "metadata": {
        "id": "BHsXeJ2L3-Ve",
        "colab_type": "text"
      },
      "source": [
        "Для начала загрузим данные. Файл с сонетами Шекспира доступен по [ссылке](http://www.gutenberg.org/ebooks/1041?msg=welcome_stranger). Кроме того, он находится рядом с этим ноутбуком (`sonnetes.txt`).\n",
        "\n",
        "Базовая предобработка уже сделана: текст состоит непосредственно из поэм Шекспира и названий/номеров глав, все техническая информация удалена."
      ]
    },
    {
      "cell_type": "code",
      "metadata": {
        "id": "OHCo3WEp3-Vg",
        "colab_type": "code",
        "colab": {}
      },
      "source": [
        "with open('sonnets.txt', 'r') as iofile:\n",
        "    text = iofile.readlines()\n",
        "    \n",
        "TEXT_START = 45\n",
        "TEXT_END = -368\n",
        "text = text[TEXT_START:TEXT_END]\n",
        "assert len(text) == 2616"
      ],
      "execution_count": 0,
      "outputs": []
    },
    {
      "cell_type": "markdown",
      "metadata": {
        "id": "Ve24447e3-Vq",
        "colab_type": "text"
      },
      "source": [
        "Так как в этот раз мы хотим научиться предсказывать текст, понизим сложность задачи и приведем текст к нижнему регистру.\n",
        "\n",
        "В настоящий момент переменная `text` представляет собой список из строк. Объедините все строки в одну и приведите к нижнему регистру. "
      ]
    },
    {
      "cell_type": "code",
      "metadata": {
        "id": "atqvqXxi3-Vt",
        "colab_type": "code",
        "colab": {},
        "outputId": "11bb6dd5-b7db-4ad8-b0a1-9b639d2cfa8a"
      },
      "source": [
        "# Объедините все строки в одну и приведите к нижнему регистру.\n",
        "# Результат запишите в переменную text.\n",
        "\n",
        "# Your great code here\n",
        "\n",
        "assert len(text) == 100225, 'Are you sure you have concatenated all the strings?'\n",
        "assert not any([x in set(text) for x in string.ascii_uppercase]), 'Uppercase letters are present'\n",
        "print('Отлично!')"
      ],
      "execution_count": 0,
      "outputs": [
        {
          "output_type": "stream",
          "text": [
            "Отлично!\n"
          ],
          "name": "stdout"
        }
      ]
    },
    {
      "cell_type": "markdown",
      "metadata": {
        "id": "MmS3IqR93-V1",
        "colab_type": "text"
      },
      "source": [
        "Выделите множество всех символов, с которыми нам довелось встретиться в переменную `tokens`."
      ]
    },
    {
      "cell_type": "code",
      "metadata": {
        "id": "7VMtn55I3-V3",
        "colab_type": "code",
        "colab": {}
      },
      "source": [
        "tokens = sorted(set(text))"
      ],
      "execution_count": 0,
      "outputs": []
    },
    {
      "cell_type": "markdown",
      "metadata": {
        "id": "g_Vsz-yj3-V_",
        "colab_type": "text"
      },
      "source": [
        "Постройте словарь `token_to_idx` вида <символ>: <индекс> и словарь `idx_to_token` вида <индекс>: <символ>."
      ]
    },
    {
      "cell_type": "code",
      "metadata": {
        "id": "Pl6BMWEt3-WB",
        "colab_type": "code",
        "colab": {}
      },
      "source": [
        "# словарь вида <индекс>:<символ>\n",
        "# Your great code here\n",
        "\n",
        "# словарь вида <символ>:<индекс>\n",
        "# Your great code here"
      ],
      "execution_count": 0,
      "outputs": []
    },
    {
      "cell_type": "markdown",
      "metadata": {
        "id": "A8uR4ZEU3-WJ",
        "colab_type": "text"
      },
      "source": [
        "*Комментарий: т.к. у нас всего 38 различных токенов, в этот раз воспользуемся one-hot encoding'ом.*\n"
      ]
    },
    {
      "cell_type": "markdown",
      "metadata": {
        "id": "IQmN86vY3-WL",
        "colab_type": "text"
      },
      "source": [
        "## Построение модели."
      ]
    },
    {
      "cell_type": "markdown",
      "metadata": {
        "id": "_q5_e6Fx3-WN",
        "colab_type": "text"
      },
      "source": [
        "Теперь наша задача - создать и обучить рекуррентную нейронную сеть, которая сможет генерировать что-то похожее на поэзию Шекспира.\n",
        "\n",
        "Для начала воспользуемся классической RNN, аналогичной построенной на семинаре. "
      ]
    },
    {
      "cell_type": "code",
      "metadata": {
        "id": "LqYjAHb43-WP",
        "colab_type": "code",
        "colab": {}
      },
      "source": [
        "# Your modified code from class here"
      ],
      "execution_count": 0,
      "outputs": []
    },
    {
      "cell_type": "markdown",
      "metadata": {
        "id": "OB4Yq_le3-WW",
        "colab_type": "text"
      },
      "source": [
        "Постройте график функции потерь в зависимости от номера эпохи."
      ]
    },
    {
      "cell_type": "code",
      "metadata": {
        "id": "cuprWrmS3-Wb",
        "colab_type": "code",
        "colab": {}
      },
      "source": [
        "# Your plot code here"
      ],
      "execution_count": 0,
      "outputs": []
    },
    {
      "cell_type": "code",
      "metadata": {
        "id": "2KccXWyc3-Wn",
        "colab_type": "code",
        "colab": {},
        "outputId": "b36ae599-c355-46fe-9482-08e6977ffe65"
      },
      "source": [
        "# Пример сгенерированного текста. Функция `generate_text` отсутствует в коде выше.\n",
        "# print(generate_text(length=500, temperature=0.2))"
      ],
      "execution_count": 0,
      "outputs": [
        {
          "output_type": "stream",
          "text": [
            "hide my will in thine?\n",
            "  shall will in of the simend that in my sime the seave the seave the sorll the soren the sange the seall seares and and the fart the wirl the seall the songh whing that thou hall will thoun the soond beare the with that sare the simest me the fart the wirl the songre the with thy seart so for shat so for do the dost the sing the sing the sing the soond canding the sack and the farling the wirl of sore sich and that with the seare the seall so fort the with the past the wirl the simen the wirl the sores the sare\n"
          ],
          "name": "stdout"
        }
      ]
    },
    {
      "cell_type": "markdown",
      "metadata": {
        "id": "gWPS-mus3-Ww",
        "colab_type": "text"
      },
      "source": [
        "### Более поэтичная модель\n",
        "\n",
        "Теперь давайте воспользуемся LSTM слоем вместо классической RNN и сравним результаты."
      ]
    },
    {
      "cell_type": "markdown",
      "metadata": {
        "id": "MDkwquAz3-Wy",
        "colab_type": "text"
      },
      "source": [
        "Снова постройте график функции потерь от числа эпох. Стал ли финальный loss лучше?"
      ]
    },
    {
      "cell_type": "code",
      "metadata": {
        "id": "zFFScSY33-W0",
        "colab_type": "code",
        "colab": {}
      },
      "source": [
        "# Your beautiful code here"
      ],
      "execution_count": 0,
      "outputs": []
    },
    {
      "cell_type": "markdown",
      "metadata": {
        "id": "YJaJECUC3-W6",
        "colab_type": "text"
      },
      "source": [
        "Сгенерируйте текст с помощью обученной сети для различных значений параметра `temperature`: `[0.1, 0.2, 0.5, 1.0, 2.0]` (\"температуры\" при генерации). Оцените результаты визуально, попробуйте их проинтерпретировать."
      ]
    },
    {
      "cell_type": "code",
      "metadata": {
        "id": "wg4A9rMe3-W9",
        "colab_type": "code",
        "colab": {}
      },
      "source": [
        "# Text generation with different tempearature values here"
      ],
      "execution_count": 0,
      "outputs": []
    },
    {
      "cell_type": "markdown",
      "metadata": {
        "id": "26-UWOsw3-XK",
        "colab_type": "text"
      },
      "source": [
        "Здесь можно оставить свои рассуждения касательно интерпретации результатов."
      ]
    },
    {
      "cell_type": "markdown",
      "metadata": {
        "id": "ydU9ExEz3-XN",
        "colab_type": "text"
      },
      "source": [
        "#### Сохранение и загрузка модели\n",
        "\n",
        "Сохраните обученную модель на диск, затем загрузите ее и сгенерируйте текст. Примеры доступны по [ссылке](https://pytorch.org/tutorials/beginner/saving_loading_models.html])."
      ]
    },
    {
      "cell_type": "code",
      "metadata": {
        "id": "JKsCvznx3-XP",
        "colab_type": "code",
        "colab": {}
      },
      "source": [
        "# Saving and loading code here"
      ],
      "execution_count": 0,
      "outputs": []
    },
    {
      "cell_type": "markdown",
      "metadata": {
        "id": "CVhTx_jq3-XU",
        "colab_type": "text"
      },
      "source": [
        "Данная часть задания завершена."
      ]
    },
    {
      "cell_type": "markdown",
      "metadata": {
        "id": "3-CzZN8C3-XW",
        "colab_type": "text"
      },
      "source": [
        "#### Полезные ссылки\n",
        "1. <a href='http://karpathy.github.io/2015/05/21/rnn-effectiveness/'> Статья Андрея Карпатого про RNN. </a> В качестве примеров рассматриваются задачи генерации Шекспировских текстов, Latex формул, Linux Source Code и детских имен.\n",
        "2. <a href='https://github.com/karpathy/char-rnn'> Репозиторий с кодом по char-rnn </a> (тоже за авторством Андрея Карпатого)\n",
        "3. Полезный репозиторий по PyTorch: [ссылка](https://github.com/spro/practical-pytorch`)"
      ]
    },
    {
      "cell_type": "markdown",
      "metadata": {
        "id": "QKRgbIG43-XZ",
        "colab_type": "text"
      },
      "source": [
        "____________________\n",
        "____________________\n",
        "____________________\n",
        "____________________\n",
        "____________________\n",
        "____________________\n",
        "____________________\n",
        "____________________\n",
        "____________________\n",
        "____________________\n",
        "____________________"
      ]
    },
    {
      "cell_type": "markdown",
      "metadata": {
        "id": "vfqiEu_a3-Xb",
        "colab_type": "text"
      },
      "source": [
        "Части задания 3 (HAR classification) и 4 (kaggle) доступны на выбор. Вы можете выполнить одну из них, или обе."
      ]
    },
    {
      "cell_type": "markdown",
      "metadata": {
        "id": "FJento693-Xd",
        "colab_type": "text"
      },
      "source": [
        "### Часть 3. HAR classification with raw data (2+ points)\n",
        "__Disclaimer__: В данном задании придется экспериментировать, подбирать оптимальную структуру сети для решения задачи и активно искать подскзаки в сети.\n",
        "\n",
        "\n",
        "Данное задание составлено на основе данного [поста](https://burakhimmetoglu.com/2017/08/22/time-series-classification-with-tensorflow/). С помощью вручную сгенерированных фичей и классических подходов задача распознования движений была решена с точностью 96%. \n",
        "\n",
        "Также будет полезным изучить [вот этот](https://github.com/healthDataScience/deep-learning-HAR), а так же [вот этот репозиторий](https://github.com/guillaume-chevalier/LSTM-Human-Activity-Recognition), где к данной задаче рассматривается несколько подходов."
      ]
    },
    {
      "cell_type": "code",
      "metadata": {
        "id": "v_P5TrvS3-Xf",
        "colab_type": "code",
        "colab": {}
      },
      "source": [
        "import numpy as np\n",
        "import matplotlib.pyplot as plt\n",
        "import pandas as pd\n",
        "import math\n",
        "import pylab\n",
        "import warnings as w\n",
        "import os\n",
        "\n",
        "%matplotlib inline"
      ],
      "execution_count": 0,
      "outputs": []
    },
    {
      "cell_type": "code",
      "metadata": {
        "id": "lTzCiLzr3-Xl",
        "colab_type": "code",
        "colab": {}
      },
      "source": [
        "import matplotlib\n",
        "matplotlib.rcParams.update({'font.size':14})"
      ],
      "execution_count": 0,
      "outputs": []
    },
    {
      "cell_type": "markdown",
      "metadata": {
        "id": "_wFgTrc33-Xq",
        "colab_type": "text"
      },
      "source": [
        "Вернемся к задаче классификации движений на основе [данных](https://archive.ics.uci.edu/ml/datasets/Human+Activity+Recognition+Using+Smartphones) из репозитория UCI ([прямая ссылка на скачивание](https://archive.ics.uci.edu/ml/machine-learning-databases/00240/UCI%20HAR%20Dataset.zip)). \n",
        "\n",
        "В этот раз будем работать с исходными, а не предобработанными данными. Данные представляют собой сигналы с гироскопа и акселерометра, закрепленного на теле человека. Каждому семплу соотвествует 9 связанных временных рядов."
      ]
    },
    {
      "cell_type": "markdown",
      "metadata": {
        "id": "AOry3NNq3-Xt",
        "colab_type": "text"
      },
      "source": [
        "В начале приведена визуализация данных на основе PCA над вручную сгенерированными признаками. Для отрисовки графиков (цвет и легенда) нам также понадобятся метки классов."
      ]
    },
    {
      "cell_type": "code",
      "metadata": {
        "id": "QAKYzIPK3-Xu",
        "colab_type": "code",
        "colab": {}
      },
      "source": [
        "X_train_with_engineered_features = np.genfromtxt(os.path.join(\"UCI HAR Dataset\", \"train\", \"X_train.txt\"))\n",
        "y_train = np.genfromtxt(os.path.join(\"UCI HAR Dataset\", \"train\", \"y_train.txt\"))\n",
        "\n",
        "y_train_list = list(y_train)\n",
        "X_unique = np.array([X_train_with_engineered_features[y_train_list.index(l)]\n",
        "                             for l in sorted(list(set(y_train)))])\n",
        "\n",
        "legend_labels = [\"WALKING\", \"WALKING.UP\", \"WALKING.DOWN\", \"SITTING\", \"STANDING\", \"LAYING\"]\n",
        "colors_list = ['red', 'blue', 'green', 'orange', 'cyan', 'magenta']\n",
        "mapped_colors = [colors_list[int(i)-1] for i in y_train]\n",
        "\n",
        "from sklearn.decomposition import PCA\n",
        "pca = PCA()\n",
        "\n",
        "X_train_pca = pca.fit_transform(X_train_with_engineered_features)\n",
        "\n",
        "plt.figure(figsize=(15,10))\n",
        "pylab.scatter(X_train_pca[:, 0], X_train_pca[:, 1],\n",
        "             c=mapped_colors)\n",
        "plt.grid()\n",
        "for idx, x in enumerate(pca.transform(X_unique)):\n",
        "    plt.scatter(x[0], \n",
        "                x[1], \n",
        "                c=colors_list[idx], \n",
        "                label=legend_labels[idx])\n",
        "plt.xlabel('First principal component')\n",
        "plt.ylabel('Second principal component')\n",
        "plt.legend()"
      ],
      "execution_count": 0,
      "outputs": []
    },
    {
      "cell_type": "markdown",
      "metadata": {
        "id": "RSLQxnts3-X0",
        "colab_type": "text"
      },
      "source": [
        "#### Предобработка данных\n",
        "Предобработка сделана за нас автором [данного репозитория](https://github.com/guillaume-chevalier/LSTM-Human-Activity-Recognition). Будьте осторожны с путями."
      ]
    },
    {
      "cell_type": "code",
      "metadata": {
        "id": "9vkqqP5E3-X2",
        "colab_type": "code",
        "colab": {}
      },
      "source": [
        "# Useful Constants\n",
        "\n",
        "# Those are separate normalised input features for the neural network\n",
        "INPUT_SIGNAL_TYPES = [\n",
        "    \"body_acc_x_\",\n",
        "    \"body_acc_y_\",\n",
        "    \"body_acc_z_\",\n",
        "    \"body_gyro_x_\",\n",
        "    \"body_gyro_y_\",\n",
        "    \"body_gyro_z_\",\n",
        "    \"total_acc_x_\",\n",
        "    \"total_acc_y_\",\n",
        "    \"total_acc_z_\"\n",
        "]\n",
        "\n",
        "# Output classes to learn how to classify\n",
        "LABELS = [\n",
        "    \"WALKING\", \n",
        "    \"WALKING_UPSTAIRS\", \n",
        "    \"WALKING_DOWNSTAIRS\", \n",
        "    \"SITTING\", \n",
        "    \"STANDING\", \n",
        "    \"LAYING\"\n",
        "]\n",
        "\n",
        "DATA_PATH = \"./\"\n",
        "\n",
        "DATASET_PATH = DATA_PATH + \"UCI HAR Dataset/\"\n",
        "print(\"\\n\" + \"Dataset is now located at: \" + DATASET_PATH)\n",
        "\n",
        "TRAIN = \"train/\"\n",
        "TEST = \"test/\"\n",
        "\n",
        "\n",
        "# Load \"X\" (the neural network's training and testing inputs)\n",
        "\n",
        "def load_X(X_signals_paths):\n",
        "    X_signals = []\n",
        "    \n",
        "    for signal_type_path in X_signals_paths:\n",
        "        file = open(signal_type_path, 'r')\n",
        "        # Read dataset from disk, dealing with text files' syntax\n",
        "        X_signals.append(\n",
        "            [np.array(serie, dtype=np.float32) for serie in [\n",
        "                row.replace('  ', ' ').strip().split(' ') for row in file\n",
        "            ]]\n",
        "        )\n",
        "        file.close()\n",
        "    \n",
        "    return np.transpose(np.array(X_signals), (1, 2, 0))\n",
        "\n",
        "X_train_signals_paths = [\n",
        "    os.path.join(*[DATASET_PATH, TRAIN, \"Inertial Signals/\", signal+\"train.txt\"]) for signal in INPUT_SIGNAL_TYPES\n",
        "]\n",
        "X_test_signals_paths = [\n",
        "    os.path.join(*[DATASET_PATH, TEST, \"Inertial Signals/\", signal+\"test.txt\"]) for signal in INPUT_SIGNAL_TYPES\n",
        "]\n",
        "\n",
        "X_train = load_X(X_train_signals_paths)\n",
        "X_test = load_X(X_test_signals_paths)\n",
        "\n",
        "\n",
        "# Load \"y\" (the neural network's training and testing outputs)\n",
        "\n",
        "def load_y(y_path):\n",
        "    file = open(y_path, 'r')\n",
        "    # Read dataset from disk, dealing with text file's syntax\n",
        "    y_ = np.array(\n",
        "        [elem for elem in [\n",
        "            row.replace('  ', ' ').strip().split(' ') for row in file\n",
        "        ]], \n",
        "        dtype=np.int32\n",
        "    )\n",
        "    file.close()\n",
        "    \n",
        "    # Substract 1 to each output class for friendly 0-based indexing \n",
        "    return y_ - 1\n",
        "\n",
        "y_train_path = os.path.join(DATASET_PATH, TRAIN, \"y_train.txt\")\n",
        "y_test_path = os.path.join(DATASET_PATH, TEST, \"y_test.txt\")\n",
        "\n",
        "y_train = load_y(y_train_path)\n",
        "y_test = load_y(y_test_path)"
      ],
      "execution_count": 0,
      "outputs": []
    },
    {
      "cell_type": "code",
      "metadata": {
        "id": "JmDv0zVH3-X6",
        "colab_type": "code",
        "colab": {}
      },
      "source": [
        "# Input Data \n",
        "\n",
        "training_data_count = len(X_train)  # 7352 training series (with 50% overlap between each serie)\n",
        "test_data_count = len(X_test)  # 2947 testing series\n",
        "n_steps = len(X_train[0])  # 128 timesteps per series\n",
        "n_input = len(X_train[0][0])  # 9 input parameters per timestep\n",
        "\n",
        "\n",
        "# LSTM Neural Network's internal structure\n",
        "\n",
        "n_hidden = 32 # Hidden layer num of features\n",
        "n_classes = 6 # Total classes (should go up, or should go down)\n",
        "\n",
        "\n",
        "# Some debugging info\n",
        "\n",
        "print(\"Some useful info to get an insight on dataset's shape and normalisation:\")\n",
        "print(\"(X shape, y shape, every X's mean, every X's standard deviation)\")\n",
        "print(X_test.shape, y_test.shape, np.mean(X_test), np.std(X_test))\n",
        "print(\"The dataset is therefore properly normalised, as expected, but not yet one-hot encoded.\")"
      ],
      "execution_count": 0,
      "outputs": []
    },
    {
      "cell_type": "markdown",
      "metadata": {
        "id": "IqjyLTWW3-X_",
        "colab_type": "text"
      },
      "source": [
        "#### Построение сети и эксперименты. (100% +)\n",
        "\n",
        "__Ваша задача - построить сеть, которая решит задачу классификации с точностью (`accuracy`) не менее 85%.__\n",
        "Разбалловка следующая:\n",
        "* $=$85% - 2 points\n",
        "* $>=$89% - 2.5 points\n",
        "* $>=$91% - 3 points\n",
        "\n",
        "\n",
        "__Warning!__ В сети существует несколько решений данной задачи с использованием различных фреймворков. При проверке это будет учитываться, так что свое решение нужно будет объяснить. Пожалуйста, не копируйте бездумно код, такие задания будут оценены 0 баллов. Если задача не решается - можете обратиться к заданию по классификации изображений."
      ]
    },
    {
      "cell_type": "markdown",
      "metadata": {
        "id": "MlEofzk43-YA",
        "colab_type": "text"
      },
      "source": [
        "После выполнения задания заполните небольшой отчет об экспериментах вида \"Я пробовал(а) ... подходы и получил(а) ... результаты. Наконец, после N+1 чашки кофе/бессонной ночи у меня получилось, и весь секрет был в ...\""
      ]
    },
    {
      "cell_type": "code",
      "metadata": {
        "id": "KyJ47sXU3-YE",
        "colab_type": "code",
        "colab": {}
      },
      "source": [
        "# Your experiments here"
      ],
      "execution_count": 0,
      "outputs": []
    },
    {
      "cell_type": "markdown",
      "metadata": {
        "id": "atWDX3Es3-YJ",
        "colab_type": "text"
      },
      "source": [
        "### Часть 4. Dogs classification.\n",
        "\n",
        "Предлагаем вам решить задачу классификации пород собак. Вы можете обучить сеть с нуля или же воспользоваться методом fine-tuning'а. Полезная ссылка на [предобученные модели](https://pytorch.org/docs/stable/torchvision/models.html).\n",
        "\n",
        "Данные можно скачать [отсюда](https://www.dropbox.com/s/vgqpz2f1lolxmlv/data.zip?dl=0). Датасет представлен 50 классами пород собак, которые можно найти в папке train в соответствующих директориях. При сдаче данной части задания вместе с ноутбуком необходимо отправить .csv-файл с предсказаниями классов тестовой выборки в формате: <имя изображения>,<метка класса> по одному объекту на строку. Ниже приведите код ваших экспериментов и короткий вывод по их результатам.\n",
        "\n",
        "Будут оцениваться качество классификации (accuracy) на тестовой выборке (2 балла) и проведенные эксперименты (1 балл).\n",
        "Разбалловка следующая:\n",
        "* $>=$96% - 2 points\n",
        "* $>=$85% - 1.5 points\n",
        "* $>=$70% - 0.75 points"
      ]
    }
  ]
}